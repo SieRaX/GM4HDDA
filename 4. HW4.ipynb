{
 "cells": [
  {
   "cell_type": "code",
   "execution_count": 1,
   "metadata": {},
   "outputs": [],
   "source": [
    "import torch\n",
    "import torch.nn.functional as F\n",
    "import numpy as np\n",
    "import matplotlib\n",
    "import matplotlib.pyplot as plt\n",
    "import copy\n",
    "from PIL import Image\n",
    "import torchvision\n",
    "from torchvision import transforms\n",
    "from torchvision.utils import make_grid\n",
    "from loader.MNIST_dataset import MNIST_dataset\n",
    "import random\n",
    "import os\n",
    "\n",
    "seed = 0\n",
    "random.seed(seed)\n",
    "os.environ['PYTHONHASHSEED'] = str(seed)\n",
    "np.random.seed(seed)\n",
    "torch.manual_seed(seed)\n",
    "torch.cuda.manual_seed(seed)\n",
    "# if you don't have gpu, \n",
    "device = f'cuda:0'"
   ]
  },
  {
   "cell_type": "markdown",
   "metadata": {},
   "source": [
    "* In this exercise, you will implement group equivariant convolutional neural network from the paper \"Group Equivariant Convolutional Networks (2016, T. Cohen et al.)\". "
   ]
  },
  {
   "cell_type": "markdown",
   "metadata": {},
   "source": [
    "1. Implementing group action\n",
    "\n",
    "First, we implement a simple group action of the cyclic group $c4$. The group $c4$ is consists of rotations by 90 degrees. A matrix parameterization of this group is:\n",
    "\n",
    "$G(r) = \\left[\\begin{array}{cc} \n",
    "\\cos(r\\pi/2) & -\\sin(r\\pi/2)\\\\\n",
    "\\sin(r\\pi/2) & \\cos(r\\pi/2)\n",
    "\\end{array}\\right]$\n",
    "\n",
    "where $0 \\leq r \\leq 3$ and $r \\in \\mathbb{R}$. The group operation is given by the summation of the angle. We assume that the group elements of $c4$ are represented as the integers $r * \\pi / 2$ (i.e., $0, \\pi/2, \\pi, 3\\pi/2$ ), and solve the below programming problems under this assumption."
   ]
  },
  {
   "cell_type": "markdown",
   "metadata": {},
   "source": [
    "(a) Write the code for the group operations on $c4$. "
   ]
  },
  {
   "cell_type": "code",
   "execution_count": 2,
   "metadata": {},
   "outputs": [],
   "source": [
    "class C4Group(torch.nn.Module):\n",
    "    \n",
    "    def __init__(self):\n",
    "        super().__init__()\n",
    "        self.register_buffer('identity', torch.Tensor([0.]))\n",
    "        self.order = torch.tensor(4)\n",
    "\n",
    "    def elements(self):\n",
    "        \"\"\" \n",
    "        out: a tensor containing all group elements in this group.\n",
    "        \"\"\"\n",
    "\n",
    "        out = torch.linspace(\n",
    "            start=0,\n",
    "            end=2 * np.pi * float(self.order - 1) / float(self.order),\n",
    "            steps=self.order,\n",
    "            device=self.identity.device\n",
    "        )\n",
    "\n",
    "        return out\n",
    "\n",
    "    def reduce2pi(self, h):\n",
    "\n",
    "        coeff = (h/(2*torch.pi)).int()\n",
    "\n",
    "        return h - 2*torch.pi*coeff\n",
    "\n",
    "    def product(self, h1, h2):\n",
    "        \"\"\" \n",
    "        h1: group element 1 \n",
    "        h2: group element 2\n",
    "        out: group product of two group elements\n",
    "        \"\"\"\n",
    "        \n",
    "        ##############################################\n",
    "        ############### YOUR CODE HERE ###############\n",
    "        ##############################################\n",
    "\n",
    "        h = self.reduce2pi(h1 + h2)\n",
    "\n",
    "        return h\n",
    "\n",
    "    def inverse(self, h):\n",
    "        \"\"\" \n",
    "        h: group element\n",
    "        out: group inverse of the group element \n",
    "        \"\"\"\n",
    "\n",
    "        ##############################################\n",
    "        ############### YOUR CODE HERE ###############\n",
    "        ##############################################\n",
    "\n",
    "        return 2 * torch.pi - h\n",
    "\n",
    "    def matrix_representation(self, h):\n",
    "        \"\"\" \n",
    "        h: group element\n",
    "        out: matrix representation in R^2 for the group element.\n",
    "        \"\"\"\n",
    "        \n",
    "        ##############################################\n",
    "        ############### YOUR CODE HERE ###############\n",
    "        ##############################################\n",
    "        c = torch.cos(h)\n",
    "        s = torch.sin(h)\n",
    "\n",
    "        return torch.stack([torch.stack([c, -s]), torch.stack([s, c])])\n",
    "\n",
    "    def left_action_on_R2(self, batch_h, batch_x):\n",
    "        \"\"\"\n",
    "        batch_h: batch of group elements (b)\n",
    "        batch_x: vectors defined in R2   (i, x, y)\n",
    "        out: left action of the elements on a set of vectors in R2 (b, x, y, i)\n",
    "        \"\"\"\n",
    "\n",
    "        ##############################################\n",
    "        ############### YOUR CODE HERE ###############\n",
    "        ##############################################\n",
    "        \n",
    "        return torch.einsum('rib, ixy -> bxyr', self.matrix_representation(batch_h), batch_x)\n",
    "\n",
    "    def left_action_on_H(self, batch_h, batch_h_prime):\n",
    "        \"\"\" \n",
    "        batch_h: batch of group elements (b)\n",
    "        batch_h_prime: batch of group elements (b)\n",
    "        out: batchwise left group actions (b, b)\n",
    "        \"\"\"\n",
    "        transformed_batch_h = self.product(batch_h.repeat(batch_h_prime.shape[0], 1),\n",
    "                                           batch_h_prime.unsqueeze(-1))\n",
    "        return transformed_batch_h\n",
    "\n",
    "    # this is not the problem\n",
    "    def normalize_group_elements(self, h):\n",
    "        \"\"\" Normalize values of group elements to range between -1 and 1.\n",
    "        The group elements range from 0 to 2pi * (self.order - 1) / self.order,\n",
    "        so we normalize by\n",
    "\n",
    "        @param h: A group element.\n",
    "        :return:\n",
    "        \"\"\"\n",
    "        largest_elem = 2 * np.pi * (self.order - 1) / self.order\n",
    "\n",
    "        return (2*h / largest_elem) - 1."
   ]
  },
  {
   "cell_type": "markdown",
   "metadata": {},
   "source": [
    "* Your code should pass some example test code.\n",
    "* For this purpose, let's visualize the group action on the image of the arrow."
   ]
  },
  {
   "cell_type": "code",
   "execution_count": 3,
   "metadata": {},
   "outputs": [
    {
     "data": {
      "image/png": "[encoded data removed]",
      "text/plain": [
       "<PIL.Image.Image image mode=RGB size=320x320>"
      ]
     },
     "execution_count": 3,
     "metadata": {},
     "output_type": "execute_result"
    }
   ],
   "source": [
    "img = Image.open(\"figures/arrow.jpg\")\n",
    "img = img.resize((320, 320))\n",
    "img_tensor = transforms.ToTensor()(img)\n",
    "img"
   ]
  },
  {
   "cell_type": "markdown",
   "metadata": {},
   "source": [
    "* creates a grid of the pixel locations in our image"
   ]
  },
  {
   "cell_type": "code",
   "execution_count": 4,
   "metadata": {},
   "outputs": [
    {
     "name": "stderr",
     "output_type": "stream",
     "text": [
      "/home/cspark/anaconda3/envs/GM4HDDA/lib/python3.10/site-packages/torch/functional.py:478: UserWarning: torch.meshgrid: in an upcoming release, it will be required to pass the indexing argument. (Triggered internally at  /opt/conda/conda-bld/pytorch_1659484803030/work/aten/src/ATen/native/TensorShape.cpp:2894.)\n",
      "  return _VF.meshgrid(tensors, **kwargs)  # type: ignore[attr-defined]\n"
     ]
    },
    {
     "data": {
      "text/plain": [
       "torch.Size([2, 320, 320])"
      ]
     },
     "execution_count": 4,
     "metadata": {},
     "output_type": "execute_result"
    }
   ],
   "source": [
    "img_grid_R2 = torch.stack(torch.meshgrid(\n",
    "    torch.linspace(-1, 1, img_tensor.shape[-1]),\n",
    "    torch.linspace(-1, 1, img_tensor.shape[-2]),\n",
    "))\n",
    "\n",
    "img_grid_R2.shape"
   ]
  },
  {
   "cell_type": "markdown",
   "metadata": {},
   "source": [
    "* If your code works well, the below code should output the four figures of the rotating arrows something like that:\n",
    "\n",
    "![rotating_arrows](figures/rotating_arrows.PNG)  \n",
    "\n",
    "* Run the code!"
   ]
  },
  {
   "cell_type": "code",
   "execution_count": 5,
   "metadata": {},
   "outputs": [
    {
     "data": {
      "image/png": "[encoded data removed]",
      "text/plain": [
       "<Figure size 640x480 with 1 Axes>"
      ]
     },
     "metadata": {},
     "output_type": "display_data"
    }
   ],
   "source": [
    "c4 = C4Group()\n",
    "transformed_img_list = []\n",
    "for g in c4.elements():\n",
    "    transformed_grid = c4.left_action_on_R2(g.unsqueeze(0), img_grid_R2)\n",
    "    transformed_img = torch.nn.functional.grid_sample(img_tensor.unsqueeze(0), transformed_grid, align_corners=True)\n",
    "    transformed_img_list.append(transformed_img)\n",
    "\n",
    "x_img = make_grid(torch.cat(transformed_img_list), nrow=4, value_range=(0, 1), pad_value=1)\n",
    "plt.imshow(x_img.permute(1,2,0))\n",
    "plt.axis('off')\n",
    "plt.show()"
   ]
  },
  {
   "cell_type": "markdown",
   "metadata": {},
   "source": [
    "2. Implementing convolutions\n",
    "\n",
    "Then, we implement a group equivariant convolution networks w.r.t. cyclic group $c4$. As shown in the paper, we have to implement two kinds of convolution neural network and one pooling as below:\n",
    "\n",
    "<img src=\"figures/gcnn.PNG\" alt=\"gcnn\" width=\"1000\"/>\n",
    "\n",
    "<!-- ![gcnn](figures/gcnn.PNG)  -->"
   ]
  },
  {
   "cell_type": "markdown",
   "metadata": {},
   "source": [
    "2-1. Z2-P4 convolution\n",
    "\n",
    "Z2-P4 convolution is of the part:\n",
    "\n",
    "<img src=\"figures/gcnn_z2p4.PNG\" alt=\"gcnn_z2p4\" width=\"500\"/>\n",
    "\n",
    "For Z2-P4 convolution network, the filter bank (kernel) class is given as below:"
   ]
  },
  {
   "cell_type": "code",
   "execution_count": 6,
   "metadata": {},
   "outputs": [],
   "source": [
    "class Z2P4Kernel(torch.nn.Module):\n",
    "\n",
    "    def __init__(self, in_channels, out_channels, kernel_size=3):\n",
    "        super().__init__()\n",
    "        self.group = C4Group()\n",
    "\n",
    "        self.kernel_size = kernel_size\n",
    "        self.in_channels = in_channels\n",
    "        self.out_channels = out_channels\n",
    "\n",
    "        # create spatial kernel grid. These are the coordinates on which our kernel weights are defined.\n",
    "        self.register_buffer(\"grid_R2\", torch.stack(torch.meshgrid(\n",
    "            torch.linspace(-1, 1, self.kernel_size),\n",
    "            torch.linspace(-1, 1, self.kernel_size),\n",
    "        )).to(self.group.identity.device))\n",
    "\n",
    "        # transform the grid by the elements in this group.\n",
    "        self.register_buffer(\"transformed_grid_R2\", self.create_transformed_grid_R2())\n",
    "\n",
    "        # create and initialize a set of weights\n",
    "        self.weight = torch.nn.Parameter(torch.zeros((\n",
    "            self.out_channels,\n",
    "            self.in_channels,\n",
    "            self.kernel_size,\n",
    "            self.kernel_size\n",
    "        ), device=self.group.identity.device))\n",
    "\n",
    "        # Initialize weights using kaiming uniform intialisation\n",
    "        torch.nn.init.kaiming_uniform_(self.weight.data, a=np.sqrt(5))\n",
    "\n",
    "    def create_transformed_grid_R2(self):\n",
    "        \"\"\"\n",
    "        Transform the created grid by the group action of each group element.\n",
    "        This yields a grid (over H) of spatial grids (over R2). In other words,\n",
    "        a list of grids, each index of which is the original spatial grid transformed by\n",
    "        a corresponding group element in H.\n",
    "        \"\"\"\n",
    "        # Obtain all group elements.\n",
    "        group_elements = self.group.elements()\n",
    "\n",
    "        # Transform the grid defined over R2 with the sampled group elements.\n",
    "        transformed_grid = self.group.left_action_on_R2(\n",
    "            self.group.inverse(group_elements),\n",
    "            self.grid_R2\n",
    "        )\n",
    "        return transformed_grid\n",
    "\n",
    "    def sample(self):\n",
    "        \"\"\" \n",
    "        Sample convolution kernels for a given number of group elements\n",
    "        out: filter bank extending over all input channels,\n",
    "            containing kernels transformed for all output group elements.\n",
    "        \"\"\"\n",
    "        # We fold the output channel dim into the input channel dim; this allows\n",
    "        # us to use the torch grid_sample function.\n",
    "        weight = self.weight.view(\n",
    "            1,\n",
    "            self.out_channels * self.in_channels,\n",
    "            self.kernel_size,\n",
    "            self.kernel_size\n",
    "        )\n",
    "\n",
    "        # We want a transformed set of weights for each group element so\n",
    "        # we repeat the set of spatial weights along the output group axis\n",
    "        weight = weight.repeat(self.group.elements().numel(), 1, 1, 1)\n",
    "\n",
    "        # Sample the transformed kernels\n",
    "        transformed_weight = torch.nn.functional.grid_sample(\n",
    "            weight,\n",
    "            self.transformed_grid_R2,\n",
    "            mode='bilinear',\n",
    "            padding_mode='zeros',\n",
    "            align_corners=True\n",
    "        )\n",
    "\n",
    "        # Separate input and output channels\n",
    "        transformed_weight = transformed_weight.view(\n",
    "            self.group.elements().numel(),\n",
    "            self.out_channels,\n",
    "            self.in_channels,\n",
    "            self.kernel_size,\n",
    "            self.kernel_size\n",
    "        )\n",
    "\n",
    "        # Put the output channel dimension before the output group dimension.\n",
    "        transformed_weight = transformed_weight.transpose(0, 1)\n",
    "\n",
    "        return transformed_weight"
   ]
  },
  {
   "cell_type": "markdown",
   "metadata": {},
   "source": [
    "(b-1) Below is the figure of the example filter bank. What characteristics does it have?"
   ]
  },
  {
   "cell_type": "markdown",
   "metadata": {},
   "source": [
    "It rotates (?)"
   ]
  },
  {
   "cell_type": "code",
   "execution_count": 7,
   "metadata": {},
   "outputs": [
    {
     "data": {
      "image/png": "[encoded data removed]",
      "text/plain": [
       "<Figure size 1000x500 with 8 Axes>"
      ]
     },
     "metadata": {},
     "output_type": "display_data"
    }
   ],
   "source": [
    "z2p4kernel_1 = Z2P4Kernel(2, 1, kernel_size=3)\n",
    "weights = z2p4kernel_1.sample()\n",
    "\n",
    "plt.rcParams['figure.figsize'] = [10, 5]\n",
    "\n",
    "# pick an output channel to visualize\n",
    "out_channel_idx = 0\n",
    "\n",
    "# create [in_channels, group_elements] figures\n",
    "fig, ax = plt.subplots(weights.shape[2], weights.shape[1])\n",
    "\n",
    "for in_channel in range(weights.shape[2]):\n",
    "    for group_elem in range(weights.shape[1]):\n",
    "        ax[in_channel, group_elem].imshow(\n",
    "            weights[out_channel_idx, group_elem, in_channel, :, :].detach().numpy()\n",
    "        )\n",
    "\n",
    "fig.text(0.5, 0.04, 'Group elements', ha='center')\n",
    "fig.text(0.04, 0.5, 'Input channels', va='center', rotation='vertical')\n",
    "\n",
    "plt.show()"
   ]
  },
  {
   "cell_type": "markdown",
   "metadata": {},
   "source": [
    "(b-2) Using the kernel code (i.e., Z2P4Kernel), write the code for Z2-P4 convolution neural network"
   ]
  },
  {
   "cell_type": "code",
   "execution_count": 8,
   "metadata": {},
   "outputs": [],
   "source": [
    "class Z2P4Conv(torch.nn.Module):\n",
    "\n",
    "    def __init__(self, in_channels, out_channels, kernel_size=3):\n",
    "        super().__init__()\n",
    "        self.kernel = Z2P4Kernel(in_channels, out_channels, kernel_size=kernel_size)\n",
    "\n",
    "    def forward(self, x):\n",
    "        \"\"\" \n",
    "        Perform Z2-P4 convolution\n",
    "        x: [batch_dim, in_channels, spatial_dim_1, spatial_dim_2]\n",
    "        out: [batch_dim, out_channels, num_group_elements, spatial_dim_1, spatial_dim_2]\n",
    "        \"\"\"\n",
    "\n",
    "        # obtain convolution kernels transformed under the group\n",
    "        conv_kernels = self.kernel.sample()\n",
    "\n",
    "        ##############################################\n",
    "        ############### YOUR CODE HERE ###############\n",
    "        ##############################################\n",
    "        \n",
    "        out_channels = conv_kernels.shape[0]\n",
    "        num_group_elements = conv_kernels.shape[1]\n",
    "        batch_dim, _, spatial_dim_1, spatial_dim_2 = x.shape\n",
    "        output = torch.zeros((batch_dim, out_channels, num_group_elements, spatial_dim_1, spatial_dim_2))\n",
    "\n",
    "        padding = conv_kernels.shape[3]//2\n",
    "        for group_ele in range(conv_kernels.shape[1]):\n",
    "            filter = conv_kernels[:, group_ele, :, :, :]\n",
    "            out = F.conv2d(x, filter, padding=padding)\n",
    "            output[:, :, group_ele, :, :] = out \n",
    "        \n",
    "\n",
    "        return output"
   ]
  },
  {
   "cell_type": "markdown",
   "metadata": {},
   "source": [
    "2-2. P4-P4 Convolution\n",
    "\n",
    "P4-P4 convolution is of the part:\n",
    "\n",
    "<img src=\"figures/gcnn_p4p4.PNG\" alt=\"gcnn_p4p4\" width=\"500\"/>\n",
    "\n",
    "For P4-P4 convolution network, the filter bank (kernel) class is given as below:"
   ]
  },
  {
   "cell_type": "code",
   "execution_count": 9,
   "metadata": {},
   "outputs": [],
   "source": [
    "class P4P4Kernel(torch.nn.Module):\n",
    "\n",
    "    def __init__(self, in_channels, out_channels, kernel_size=3):\n",
    "        super().__init__()\n",
    "        self.group = C4Group()\n",
    "\n",
    "        self.kernel_size = kernel_size\n",
    "        self.in_channels = in_channels\n",
    "        self.out_channels = out_channels\n",
    "\n",
    "        # Create a spatial kernel grid\n",
    "        self.register_buffer(\"grid_R2\", torch.stack(torch.meshgrid(\n",
    "            torch.linspace(-1, 1, self.kernel_size),\n",
    "            torch.linspace(-1, 1, self.kernel_size),\n",
    "        )).to(self.group.identity.device))\n",
    "\n",
    "        # The kernel grid now also extends over the group H, as our input\n",
    "        # feature maps contain an additional group dimension\n",
    "        self.register_buffer(\"grid_H\", self.group.elements())\n",
    "        self.register_buffer(\"transformed_grid_R2xH\", self.create_transformed_grid_R2xH())\n",
    "\n",
    "        # create and initialise a set of weights, we will interpolate these\n",
    "        # to create our transformed spatial kernels. Note that our weight\n",
    "        # now also extends over the group H\n",
    "        self.weight = torch.nn.Parameter(torch.zeros((\n",
    "            self.out_channels,\n",
    "            self.in_channels,\n",
    "            self.group.elements().numel(), # this is different from the lifting convolution\n",
    "            self.kernel_size,\n",
    "            self.kernel_size\n",
    "        ), device=self.group.identity.device))\n",
    "\n",
    "        # initialize weights using kaiming uniform intialisation\n",
    "        torch.nn.init.kaiming_uniform_(self.weight.data, a=np.sqrt(5))\n",
    "\n",
    "    def create_transformed_grid_R2xH(self):\n",
    "        \"\"\"\n",
    "\n",
    "        \"\"\"\n",
    "        # Sample the group\n",
    "        group_elements = self.group.elements()\n",
    "\n",
    "        # Transform the grid defined over R2 with the sampled group elements\n",
    "        transformed_grid_R2 = self.group.left_action_on_R2(\n",
    "            self.group.inverse(group_elements),\n",
    "            self.grid_R2\n",
    "        )\n",
    "\n",
    "        # Transform the grid defined over H with the sampled group elements\n",
    "        transformed_grid_H = self.group.left_action_on_H(\n",
    "            self.group.inverse(group_elements), self.grid_H\n",
    "        )\n",
    "\n",
    "        # Rescale values to between -1 and 1, we do this to please the torch grid_sample\n",
    "        # function.\n",
    "        transformed_grid_H = self.group.normalize_group_elements(transformed_grid_H)\n",
    "\n",
    "        # Create a combined grid as the product of the grids over R2 and H\n",
    "        # repeat R2 along the group dimension, and repeat H along the spatial dimension\n",
    "        # to create a [output_group_elem, num_group_elements, kernel_size, kernel_size, 3] grid\n",
    "        transformed_grid = torch.cat(\n",
    "            (\n",
    "                transformed_grid_R2.view(\n",
    "                    group_elements.numel(),\n",
    "                    1,\n",
    "                    self.kernel_size,\n",
    "                    self.kernel_size,\n",
    "                    2,\n",
    "                ).repeat(1, group_elements.numel(), 1, 1, 1),\n",
    "                transformed_grid_H.view(\n",
    "                    group_elements.numel(),\n",
    "                    group_elements.numel(),\n",
    "                    1,\n",
    "                    1,\n",
    "                    1,\n",
    "                ).repeat(1, 1, self.kernel_size, self.kernel_size, 1, )\n",
    "            ),\n",
    "            dim=-1\n",
    "        )\n",
    "        return transformed_grid\n",
    "\n",
    "    def sample(self):\n",
    "        \"\"\" Sample convolution kernels for a given number of group elements\n",
    "\n",
    "        should return:\n",
    "        :return kernels: filter bank extending over all input channels,\n",
    "            containing kernels transformed for all output group elements.\n",
    "        \"\"\"\n",
    "\n",
    "        # fold the output channel dim into the input channel dim; this allows\n",
    "        # us to use the torch grid_sample function\n",
    "        weight = self.weight.view(\n",
    "            1,\n",
    "            self.out_channels * self.in_channels,\n",
    "            self.group.elements().numel(),\n",
    "            self.kernel_size,\n",
    "            self.kernel_size\n",
    "        )\n",
    "\n",
    "        # we want a transformed set of weights for each group element so\n",
    "        weight = weight.repeat(self.group.elements().numel(), 1, 1, 1, 1)\n",
    "\n",
    "        # sample the transformed kernels,\n",
    "        transformed_weight = torch.nn.functional.grid_sample(\n",
    "            weight,\n",
    "            self.transformed_grid_R2xH,\n",
    "            mode='bilinear',\n",
    "            padding_mode='zeros',\n",
    "            align_corners=True\n",
    "        )\n",
    "\n",
    "        # Separate input and output channels. Note we now have a notion of\n",
    "        # input and output group dimensions in our weight matrix!\n",
    "        transformed_weight = transformed_weight.view(\n",
    "            self.group.elements().numel(), # Output group elements (like in the lifting convolutoin)\n",
    "            self.out_channels,\n",
    "            self.in_channels,\n",
    "            self.group.elements().numel(), # Input group elements (due to the additional dimension of our feature map)\n",
    "            self.kernel_size,\n",
    "            self.kernel_size\n",
    "        )\n",
    "\n",
    "        # Put the output channel dimension before the output group dimension.\n",
    "        transformed_weight = transformed_weight.transpose(0, 1)\n",
    "\n",
    "        return transformed_weight"
   ]
  },
  {
   "cell_type": "markdown",
   "metadata": {},
   "source": [
    "(c-1) Below is the figure of the example filter bank. What characteristics does it have?"
   ]
  },
  {
   "cell_type": "code",
   "execution_count": 10,
   "metadata": {},
   "outputs": [
    {
     "data": {
      "image/png": "[encoded data removed]",
      "text/plain": [
       "<Figure size 1000x1000 with 8 Axes>"
      ]
     },
     "metadata": {},
     "output_type": "display_data"
    }
   ],
   "source": [
    "p4p4kernel_1 = P4P4Kernel(2, 8, kernel_size=3)\n",
    "weights = p4p4kernel_1.sample()\n",
    "# weights.shape\n",
    "\n",
    "plt.rcParams['figure.figsize'] = [10, 10]\n",
    "\n",
    "# For ease of viewing, we fold the input group dimension into the spatial x dimension\n",
    "weights_t = weights.view(\n",
    "    weights.shape[0],\n",
    "    weights.shape[1],\n",
    "    weights.shape[2],\n",
    "    weights.shape[3] * weights.shape[4],\n",
    "    weights.shape[5]\n",
    ")\n",
    "\n",
    "# pick an output channel to visualize\n",
    "out_channel_idx = 0\n",
    "\n",
    "# create [in_channels, group_elements] figures\n",
    "fig, ax = plt.subplots(weights.shape[2], weights.shape[1])\n",
    "\n",
    "for in_channel in range(weights.shape[2]):\n",
    "    for group_elem in range(weights.shape[1]):\n",
    "        ax[in_channel, group_elem].imshow(\n",
    "            weights_t[out_channel_idx, group_elem, in_channel, :, :].detach()\n",
    "        )\n",
    "\n",
    "        # Outline the spatial kernel corresponding to the first group element under canonical transformation\n",
    "        rect = matplotlib.patches.Rectangle(\n",
    "            (-0.5, group_elem * weights_t.shape[-1] - 0.5), weights_t.shape[-1], weights_t.shape[-1], linewidth=5, edgecolor='r', facecolor='none')\n",
    "        ax[in_channel, group_elem].add_patch(rect)\n",
    "\n",
    "fig.text(0.5, 0.04, 'Group elements', ha='center')\n",
    "fig.text(0.04, 0.5, 'Input channels / input group elements', va='center', rotation='vertical')\n",
    "\n",
    "plt.show()"
   ]
  },
  {
   "cell_type": "code",
   "execution_count": 11,
   "metadata": {},
   "outputs": [
    {
     "data": {
      "text/plain": [
       "torch.Size([20, 33, 1, 8, 18])"
      ]
     },
     "execution_count": 11,
     "metadata": {},
     "output_type": "execute_result"
    }
   ],
   "source": [
    "filters = torch.randn(33, 16, 50, 3, 3)\n",
    "inputs = torch.randn(20, 16, 50, 10, 20)\n",
    "a = F.conv3d(inputs, filters)\n",
    "a.shape"
   ]
  },
  {
   "cell_type": "markdown",
   "metadata": {},
   "source": [
    "(c-2) Using the kernel code (i.e., P4P4Kernel), write the code for P4-P4 convolution neural network"
   ]
  },
  {
   "cell_type": "code",
   "execution_count": 12,
   "metadata": {},
   "outputs": [],
   "source": [
    "class P4P4Conv(torch.nn.Module):\n",
    "\n",
    "    def __init__(self, in_channels, out_channels, kernel_size=3):\n",
    "        super().__init__()\n",
    "\n",
    "        self.kernel = P4P4Kernel(in_channels, out_channels, kernel_size=kernel_size)\n",
    "\n",
    "    def forward(self, x):\n",
    "        \"\"\" \n",
    "        Perform P4-P4 convolution\n",
    "        x: [batch_dim, in_channels, num_group_elements, spatial_dim_1, spatial_dim_2]\n",
    "        out: [batch_dim, out_channels, num_group_elements, spatial_dim_1, spatial_dim_2]\n",
    "        \"\"\"\n",
    "\n",
    "        # We obtain convolution kernels transformed under the group\n",
    "        conv_kernels = self.kernel.sample()\n",
    "\n",
    "        ##############################################\n",
    "        ############### YOUR CODE HERE ###############\n",
    "        ##############################################\n",
    "\n",
    "        batch_dim, in_channels, num_group_elements, spatial_dim_1, spatial_dim_2 = x.shape\n",
    "        out_channels = conv_kernels.shape[0]\n",
    "        filter_width = conv_kernels.shape[-1]\n",
    "        \n",
    "        output = torch.zeros((batch_dim, out_channels, num_group_elements, spatial_dim_1, spatial_dim_2))\n",
    "        padding = filter_width//2\n",
    "\n",
    "        # print(f\"x.shape: {x.shape}\")\n",
    "        # print(f\"filter.shape: {conv_kernels[:, 0, :, :, :, :].shape}\")\n",
    "        # print(f\"output.shape: {output.shape}\")\n",
    "        # print(f\"conv output shape: {F.conv3d(x, conv_kernels[:, 0, :, :, :, :], padding=(0, padding, padding)).shape}\")\n",
    "\n",
    "        for group_el in range(num_group_elements):\n",
    "            output[:, :, group_el, : , : ] = F.conv3d(x, conv_kernels[:, group_el, :, :, :, :], padding=(0, padding, padding)).squeeze()\n",
    "\n",
    "        return output"
   ]
  },
  {
   "cell_type": "markdown",
   "metadata": {},
   "source": [
    "2-3. P4-Z2 Pooling\n",
    "\n",
    "P4-Z2 Pooling is of the part:\n",
    "\n",
    "<img src=\"figures/gcnn_p4z2.PNG\" alt=\"gcnn_p4z2\" width=\"500\"/>\n",
    "\n",
    "P4-Z2 Pooling is given as below:"
   ]
  },
  {
   "cell_type": "code",
   "execution_count": 13,
   "metadata": {},
   "outputs": [],
   "source": [
    "class P4Z2Pooling(torch.nn.Module):\n",
    "    \n",
    "    def __init__(self):\n",
    "        super().__init__()\n",
    "\n",
    "    def forward(self, x):\n",
    "        x = torch.mean(x, dim=(-3, -2, -1))\n",
    "        x = x.squeeze()\n",
    "\n",
    "        return x\n",
    "        "
   ]
  },
  {
   "cell_type": "markdown",
   "metadata": {},
   "source": [
    "2-4. Using the developed Z2P4Conv, P4P4Conv, and P4Z2Pooling, we can design an example \"group equivariant convolutional neural network\" as follows:"
   ]
  },
  {
   "cell_type": "code",
   "execution_count": 14,
   "metadata": {},
   "outputs": [],
   "source": [
    "class GroupEquivariantCNN(torch.nn.Module):\n",
    "\n",
    "    def __init__(self):\n",
    "        super().__init__()\n",
    "\n",
    "        self.conv1 = Z2P4Conv(1, 10, kernel_size=3)\n",
    "        self.conv2 = P4P4Conv(10, 10, kernel_size=3)\n",
    "        self.conv3 = P4P4Conv(10, 20, kernel_size=3)\n",
    "        self.conv4 = P4P4Conv(20, 20, kernel_size=3)\n",
    "        self.pooling = P4Z2Pooling()\n",
    "        self.fc = torch.nn.Linear(20, 10)\n",
    "\n",
    "    def forward(self, x):\n",
    "        x = F.relu(self.conv1(x))\n",
    "        x = F.relu(self.conv2(x))\n",
    "        x = F.relu(self.conv3(x))\n",
    "        x = F.relu(self.conv4(x))\n",
    "        x = self.pooling(x)\n",
    "        x = self.fc(x)\n",
    "        x = F.log_softmax(x)\n",
    "\n",
    "        return x\n",
    "    \n",
    "    def get_last_channels(self, x):\n",
    "        x = F.relu(self.conv1(x))\n",
    "        x = F.relu(self.conv2(x))\n",
    "        x = F.relu(self.conv3(x))\n",
    "        x = F.relu(self.conv4(x))\n",
    "        return x\n"
   ]
  },
  {
   "cell_type": "code",
   "execution_count": 15,
   "metadata": {},
   "outputs": [
    {
     "name": "stderr",
     "output_type": "stream",
     "text": [
      "/tmp/ipykernel_1534284/568506693.py:20: UserWarning: Implicit dimension choice for log_softmax has been deprecated. Change the call to include dim=X as an argument.\n",
      "  x = F.log_softmax(x)\n"
     ]
    },
    {
     "data": {
      "text/plain": [
       "torch.Size([8, 10])"
      ]
     },
     "execution_count": 15,
     "metadata": {},
     "output_type": "execute_result"
    }
   ],
   "source": [
    "x_test = torch.rand(8, 1, 64, 64)\n",
    "eq_net = GroupEquivariantCNN()\n",
    "y_test = eq_net(x_test)\n",
    "y_test.shape"
   ]
  },
  {
   "cell_type": "markdown",
   "metadata": {},
   "source": [
    "* For comparison, we add the original CNN model:"
   ]
  },
  {
   "cell_type": "code",
   "execution_count": 16,
   "metadata": {},
   "outputs": [],
   "source": [
    "class CNN(torch.nn.Module):\n",
    "    \n",
    "    def __init__(self):\n",
    "        super().__init__()\n",
    "\n",
    "        self.conv1 = torch.nn.Conv2d(1, 10, kernel_size=3)\n",
    "        self.conv2 = torch.nn.Conv2d(10, 10, kernel_size=3)\n",
    "        self.conv3 = torch.nn.Conv2d(10, 20, kernel_size=3)\n",
    "        self.conv4 = torch.nn.Conv2d(20, 20, kernel_size=3)\n",
    "        self.fc = torch.nn.Linear(20, 10)\n",
    "\n",
    "    def forward(self, x):\n",
    "        x = F.relu(self.conv1(x))\n",
    "        x = F.relu(self.conv2(x))\n",
    "        x = F.relu(self.conv3(x))\n",
    "        x = F.relu(self.conv4(x))\n",
    "        x = torch.mean(x, dim=(-2, -1)) # avg pooling\n",
    "        x = self.fc(x)\n",
    "        x = F.log_softmax(x)\n",
    "\n",
    "        return x\n",
    "    \n",
    "    def get_last_channels(self, x):\n",
    "        x = F.relu(self.conv1(x))\n",
    "        x = F.relu(self.conv2(x))\n",
    "        x = F.relu(self.conv3(x))\n",
    "        x = F.relu(self.conv4(x))\n",
    "        return x\n",
    "\n"
   ]
  },
  {
   "cell_type": "code",
   "execution_count": 17,
   "metadata": {},
   "outputs": [
    {
     "name": "stderr",
     "output_type": "stream",
     "text": [
      "/tmp/ipykernel_1534284/1208011322.py:19: UserWarning: Implicit dimension choice for log_softmax has been deprecated. Change the call to include dim=X as an argument.\n",
      "  x = F.log_softmax(x)\n"
     ]
    },
    {
     "data": {
      "text/plain": [
       "torch.Size([8, 10])"
      ]
     },
     "execution_count": 17,
     "metadata": {},
     "output_type": "execute_result"
    }
   ],
   "source": [
    "x_test = torch.rand(8, 1, 64, 64)\n",
    "net = CNN()\n",
    "y_test = net(x_test)\n",
    "y_test.shape"
   ]
  },
  {
   "cell_type": "markdown",
   "metadata": {},
   "source": [
    "3. Check equivariance of the designed networks\n",
    "\n",
    "* load MNIST dataset"
   ]
  },
  {
   "cell_type": "code",
   "execution_count": 18,
   "metadata": {},
   "outputs": [
    {
     "name": "stdout",
     "output_type": "stream",
     "text": [
      "Downloading http://yann.lecun.com/exdb/mnist/train-images-idx3-ubyte.gz\n",
      "Downloading http://yann.lecun.com/exdb/mnist/train-images-idx3-ubyte.gz to datasets/MNIST_dataset/raw/train-images-idx3-ubyte.gz\n"
     ]
    },
    {
     "name": "stderr",
     "output_type": "stream",
     "text": [
      "100.0%\n"
     ]
    },
    {
     "name": "stdout",
     "output_type": "stream",
     "text": [
      "Extracting datasets/MNIST_dataset/raw/train-images-idx3-ubyte.gz to datasets/MNIST_dataset/raw\n",
      "\n",
      "Downloading http://yann.lecun.com/exdb/mnist/train-labels-idx1-ubyte.gz\n",
      "Downloading http://yann.lecun.com/exdb/mnist/train-labels-idx1-ubyte.gz to datasets/MNIST_dataset/raw/train-labels-idx1-ubyte.gz\n"
     ]
    },
    {
     "name": "stderr",
     "output_type": "stream",
     "text": [
      "100.0%\n"
     ]
    },
    {
     "name": "stdout",
     "output_type": "stream",
     "text": [
      "Extracting datasets/MNIST_dataset/raw/train-labels-idx1-ubyte.gz to datasets/MNIST_dataset/raw\n",
      "\n",
      "Downloading http://yann.lecun.com/exdb/mnist/t10k-images-idx3-ubyte.gz\n",
      "Downloading http://yann.lecun.com/exdb/mnist/t10k-images-idx3-ubyte.gz to datasets/MNIST_dataset/raw/t10k-images-idx3-ubyte.gz\n"
     ]
    },
    {
     "name": "stderr",
     "output_type": "stream",
     "text": [
      "100.0%\n"
     ]
    },
    {
     "name": "stdout",
     "output_type": "stream",
     "text": [
      "Extracting datasets/MNIST_dataset/raw/t10k-images-idx3-ubyte.gz to datasets/MNIST_dataset/raw\n",
      "\n",
      "Downloading http://yann.lecun.com/exdb/mnist/t10k-labels-idx1-ubyte.gz\n",
      "Downloading http://yann.lecun.com/exdb/mnist/t10k-labels-idx1-ubyte.gz to datasets/MNIST_dataset/raw/t10k-labels-idx1-ubyte.gz\n"
     ]
    },
    {
     "name": "stderr",
     "output_type": "stream",
     "text": [
      "100.0%\n"
     ]
    },
    {
     "name": "stdout",
     "output_type": "stream",
     "text": [
      "Extracting datasets/MNIST_dataset/raw/t10k-labels-idx1-ubyte.gz to datasets/MNIST_dataset/raw\n",
      "\n",
      "MNIST split training | torch.Size([25525, 1, 28, 28])\n"
     ]
    }
   ],
   "source": [
    "train_ds = MNIST_dataset(root='datasets', split='training', digits=[0, 1, 2, 3, 4])"
   ]
  },
  {
   "cell_type": "code",
   "execution_count": 19,
   "metadata": {},
   "outputs": [
    {
     "data": {
      "image/png": "[encoded data removed]",
      "text/plain": [
       "<Figure size 1000x1000 with 1 Axes>"
      ]
     },
     "metadata": {},
     "output_type": "display_data"
    }
   ],
   "source": [
    "test_x = train_ds.data[:10]\n",
    "x_img = make_grid(test_x, nrow=10, value_range=(0, 1), pad_value=1)\n",
    "\n",
    "plt.figure(figsize=(10,10))\n",
    "plt.imshow(x_img.permute(1,2,0))\n",
    "plt.axis('off')\n",
    "plt.show()"
   ]
  },
  {
   "cell_type": "code",
   "execution_count": 20,
   "metadata": {},
   "outputs": [
    {
     "data": {
      "image/png": "[encoded data removed]",
      "text/plain": [
       "<Figure size 300x300 with 1 Axes>"
      ]
     },
     "metadata": {},
     "output_type": "display_data"
    }
   ],
   "source": [
    "# Get an image from the test dataset.\n",
    "test_x = train_ds.data[32]\n",
    "test_img = make_grid(test_x, nrow=1, value_range=(0, 1), pad_value=1)\n",
    "\n",
    "plt.figure(figsize=(3, 3))\n",
    "plt.imshow(test_img.permute(1,2,0))\n",
    "plt.axis('off')\n",
    "plt.show()"
   ]
  },
  {
   "cell_type": "code",
   "execution_count": 21,
   "metadata": {},
   "outputs": [
    {
     "data": {
      "image/png": "[encoded data removed]",
      "text/plain": [
       "<Figure size 1000x1000 with 1 Axes>"
      ]
     },
     "metadata": {},
     "output_type": "display_data"
    }
   ],
   "source": [
    "# rotation angles\n",
    "rots = torch.linspace(0, 360 - 360/4, 4)\n",
    "\n",
    "# rotate the input image\n",
    "rot_digit = torch.stack(tuple(torchvision.transforms.functional.rotate(test_x, a.item(), torchvision.transforms.functional.InterpolationMode.BILINEAR) for a in rots))\n",
    "rot_img = make_grid(rot_digit, nrow=8, value_range=(0, 1), pad_value=1)\n",
    "\n",
    "plt.figure(figsize=(10,10))\n",
    "plt.imshow(rot_img.permute(1,2,0))\n",
    "plt.axis('off')\n",
    "plt.show()"
   ]
  },
  {
   "cell_type": "code",
   "execution_count": 22,
   "metadata": {},
   "outputs": [
    {
     "data": {
      "image/png": "[encoded data removed]",
      "text/plain": [
       "<Figure size 1000x500 with 12 Axes>"
      ]
     },
     "metadata": {},
     "output_type": "display_data"
    },
    {
     "name": "stdout",
     "output_type": "stream",
     "text": [
      "tensor([[-2.1184, -2.1899, -2.5024, -2.4972, -2.3547, -2.3197, -2.3129, -2.1446,\n",
      "         -2.2472, -2.4232],\n",
      "        [-2.1184, -2.1899, -2.5024, -2.4972, -2.3547, -2.3197, -2.3129, -2.1446,\n",
      "         -2.2472, -2.4232],\n",
      "        [-2.1184, -2.1899, -2.5024, -2.4972, -2.3547, -2.3197, -2.3129, -2.1446,\n",
      "         -2.2472, -2.4232],\n",
      "        [-2.1184, -2.1899, -2.5024, -2.4972, -2.3547, -2.3197, -2.3129, -2.1446,\n",
      "         -2.2472, -2.4232]], grad_fn=<LogSoftmaxBackward0>)\n"
     ]
    },
    {
     "name": "stderr",
     "output_type": "stream",
     "text": [
      "/tmp/ipykernel_1534284/568506693.py:20: UserWarning: Implicit dimension choice for log_softmax has been deprecated. Change the call to include dim=X as an argument.\n",
      "  x = F.log_softmax(x)\n"
     ]
    }
   ],
   "source": [
    "eq_last_channel = torch.mean(\n",
    "    eq_net.get_last_channels(rot_digit),\n",
    "    dim=-3\n",
    "    )[:,0,...] #if figure looks wierd, try another channel index 0 -> ?\n",
    "\n",
    "plt.rcParams['figure.figsize'] = [10, 5]\n",
    "fig, ax = plt.subplots(3, 4)\n",
    "for idx in range(4):\n",
    "    ax[0, idx].imshow(\n",
    "        rot_digit[idx, 0, :, :].detach().numpy()\n",
    "    )\n",
    "    ax[1, idx].imshow(\n",
    "        eq_last_channel[idx, :, :].detach().numpy()\n",
    "    )\n",
    "    ax[2, idx].imshow(\n",
    "        torch.rot90(eq_last_channel[idx, :, :], k=-idx).detach().numpy()\n",
    "    )\n",
    "    \n",
    "fig.text(0.04, 0.77, 'input image', va='center', rotation='vertical')\n",
    "fig.text(0.04, 0.51, 'last channel', va='center', rotation='vertical')\n",
    "fig.text(0.04, 0.22, 'aligned last channel', va='center', rotation='vertical')\n",
    "plt.show()\n",
    "print(eq_net(rot_digit))\n"
   ]
  },
  {
   "cell_type": "code",
   "execution_count": 23,
   "metadata": {},
   "outputs": [
    {
     "data": {
      "image/png": "[encoded data removed]",
      "text/plain": [
       "<Figure size 1000x500 with 12 Axes>"
      ]
     },
     "metadata": {},
     "output_type": "display_data"
    },
    {
     "name": "stdout",
     "output_type": "stream",
     "text": [
      "tensor([[-2.3607, -2.3838, -2.3515, -2.1571, -2.3024, -2.1952, -2.2466, -2.3066,\n",
      "         -2.3577, -2.3946],\n",
      "        [-2.3606, -2.3838, -2.3516, -2.1572, -2.3023, -2.1951, -2.2466, -2.3066,\n",
      "         -2.3576, -2.3948],\n",
      "        [-2.3608, -2.3838, -2.3516, -2.1571, -2.3023, -2.1951, -2.2466, -2.3067,\n",
      "         -2.3577, -2.3946],\n",
      "        [-2.3606, -2.3838, -2.3517, -2.1572, -2.3024, -2.1950, -2.2466, -2.3066,\n",
      "         -2.3576, -2.3948]], grad_fn=<LogSoftmaxBackward0>)\n"
     ]
    },
    {
     "name": "stderr",
     "output_type": "stream",
     "text": [
      "/tmp/ipykernel_1534284/1208011322.py:19: UserWarning: Implicit dimension choice for log_softmax has been deprecated. Change the call to include dim=X as an argument.\n",
      "  x = F.log_softmax(x)\n"
     ]
    }
   ],
   "source": [
    "last_channel = net.get_last_channels(rot_digit)[:,0,...] #if figure looks wierd, try another channel index 0 -> ?\n",
    "\n",
    "plt.rcParams['figure.figsize'] = [10, 5]\n",
    "fig, ax = plt.subplots(3, 4)\n",
    "for idx in range(4):\n",
    "    ax[0, idx].imshow(\n",
    "        rot_digit[idx, 0, :, :].detach().numpy()\n",
    "    )\n",
    "    ax[1, idx].imshow(\n",
    "        last_channel[idx, :, :].detach().numpy()\n",
    "    )\n",
    "    ax[2, idx].imshow(\n",
    "        torch.rot90(last_channel[idx, :, :], k=-idx).detach().numpy()\n",
    "    )\n",
    "    \n",
    "fig.text(0.04, 0.77, 'input image', va='center', rotation='vertical')\n",
    "fig.text(0.04, 0.51, 'last channel', va='center', rotation='vertical')\n",
    "fig.text(0.04, 0.22, 'aligned last channel', va='center', rotation='vertical')\n",
    "plt.show()\n",
    "print(net(rot_digit))\n"
   ]
  },
  {
   "cell_type": "markdown",
   "metadata": {},
   "source": [
    "(d) Does CNN equivariant along translation or rotation? How about group-equivariant CNN?"
   ]
  }
 ],
 "metadata": {
  "kernelspec": {
   "display_name": "Python 3.10.6 ('GM4HDDA')",
   "language": "python",
   "name": "python3"
  },
  "language_info": {
   "codemirror_mode": {
    "name": "ipython",
    "version": 3
   },
   "file_extension": ".py",
   "mimetype": "text/x-python",
   "name": "python",
   "nbconvert_exporter": "python",
   "pygments_lexer": "ipython3",
   "version": "3.10.6"
  },
  "orig_nbformat": 4,
  "vscode": {
   "interpreter": {
    "hash": "afe4b1b55c541aa8cb9afba6c2ade8af7cb6c99a6f263250c2b86e51225147c3"
   }
  }
 },
 "nbformat": 4,
 "nbformat_minor": 2
}
